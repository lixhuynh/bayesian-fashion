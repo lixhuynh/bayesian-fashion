{
  "nbformat": 4,
  "nbformat_minor": 0,
  "metadata": {
    "colab": {
      "provenance": [],
      "gpuType": "T4"
    },
    "kernelspec": {
      "name": "python3",
      "display_name": "Python 3"
    },
    "language_info": {
      "name": "python"
    },
    "accelerator": "GPU"
  },
  "cells": [
    {
      "cell_type": "code",
      "execution_count": 9,
      "metadata": {
        "id": "Ex9nQQQpnAdV"
      },
      "outputs": [],
      "source": [
        "import os\n",
        "import cv2\n",
        "import numpy as np\n",
        "import pandas as pd\n",
        "import matplotlib.pyplot as plt\n",
        "\n",
        "import tensorflow as tf"
      ]
    },
    {
      "cell_type": "code",
      "source": [
        "from google.colab import drive\n",
        "drive.mount(\"/content/drive\")"
      ],
      "metadata": {
        "colab": {
          "base_uri": "https://localhost:8080/"
        },
        "id": "lWPPRL5smmmg",
        "outputId": "51610d81-8e7a-4d33-e71b-affc027436ef"
      },
      "execution_count": 10,
      "outputs": [
        {
          "output_type": "stream",
          "name": "stdout",
          "text": [
            "Drive already mounted at /content/drive; to attempt to forcibly remount, call drive.mount(\"/content/drive\", force_remount=True).\n"
          ]
        }
      ]
    },
    {
      "cell_type": "code",
      "source": [
        "TARGET_SIZE = 128\n",
        "BATCH_SIZE = 8\n",
        "EPOCHS = 10\n",
        "ROOT_DIR = \"/content/drive/MyDrive/Colab Notebooks/CassavaLeaves\""
      ],
      "metadata": {
        "id": "xL7oY2ar5otv"
      },
      "execution_count": 11,
      "outputs": []
    },
    {
      "cell_type": "code",
      "source": [
        "train_labels = pd.read_csv(os.path.join(ROOT_DIR, \"train.csv\"))"
      ],
      "metadata": {
        "id": "0NZN_KsUlp5-"
      },
      "execution_count": 12,
      "outputs": []
    },
    {
      "cell_type": "code",
      "source": [
        "train_labels.label = train_labels.label.astype('str')\n",
        "\n",
        "generator_params = {\n",
        "    \"dataframe\": train_labels,\n",
        "    \"directory\": os.path.join(ROOT_DIR, \"train_images\"),\n",
        "    \"x_col\": \"image_id\",\n",
        "    \"y_col\": \"label\",\n",
        "    \"target_size\": (TARGET_SIZE, TARGET_SIZE),\n",
        "    \"batch_size\": BATCH_SIZE,\n",
        "    \"class_mode\": \"sparse\"\n",
        "}\n",
        "\n",
        "train_generator = tf.keras.preprocessing.image.ImageDataGenerator(\n",
        "    validation_split = 0.2,\n",
        "    zoom_range = 0.2,\n",
        "    horizontal_flip = True,\n",
        "    vertical_flip = True,\n",
        "    fill_mode = 'nearest',\n",
        "    shear_range = 0.1,\n",
        "    height_shift_range = 0.1,\n",
        "    width_shift_range = 0.1\n",
        ").flow_from_dataframe(\n",
        "    subset = \"training\",\n",
        "    **generator_params\n",
        ")\n",
        "\n",
        "validation_generator = tf.keras.preprocessing.image.ImageDataGenerator(\n",
        "    validation_split = 0.2\n",
        ").flow_from_dataframe(\n",
        "    subset = \"validation\",\n",
        "    **generator_params\n",
        ")"
      ],
      "metadata": {
        "id": "bVCIQlco1wxC",
        "colab": {
          "base_uri": "https://localhost:8080/"
        },
        "outputId": "5a24c672-142a-4987-e331-dedc229f1c38"
      },
      "execution_count": 13,
      "outputs": [
        {
          "output_type": "stream",
          "name": "stdout",
          "text": [
            "Found 17118 validated image filenames belonging to 5 classes.\n",
            "Found 4279 validated image filenames belonging to 5 classes.\n"
          ]
        }
      ]
    },
    {
      "cell_type": "code",
      "source": [
        "def createModel():\n",
        "  model = tf.keras.models.Sequential([\n",
        "      tf.keras.layers.Input(shape=(TARGET_SIZE, TARGET_SIZE, 3)),\n",
        "      tf.keras.applications.EfficientNetB0(include_top=False, weights=None),\n",
        "      tf.keras.layers.GlobalAveragePooling2D(),\n",
        "      tf.keras.layers.Dense(5, activation=\"softmax\")\n",
        "  ])\n",
        "  model.compile(optimizer = tf.keras.optimizers.Adam(learning_rate = 0.001),\n",
        "                loss = \"sparse_categorical_crossentropy\",\n",
        "                metrics = [\"acc\"])\n",
        "  return model"
      ],
      "metadata": {
        "id": "Uy4h4_Eg2ate"
      },
      "execution_count": 14,
      "outputs": []
    },
    {
      "cell_type": "code",
      "source": [
        "model = createModel()\n",
        "model.summary()"
      ],
      "metadata": {
        "colab": {
          "base_uri": "https://localhost:8080/"
        },
        "id": "HPYzP4CI2Avj",
        "outputId": "c1a0bbd6-926f-4b49-816c-447a7b9cca8e"
      },
      "execution_count": 15,
      "outputs": [
        {
          "output_type": "stream",
          "name": "stdout",
          "text": [
            "Model: \"sequential_1\"\n",
            "_________________________________________________________________\n",
            " Layer (type)                Output Shape              Param #   \n",
            "=================================================================\n",
            " efficientnetb0 (Functional  (None, None, None, 1280   4049571   \n",
            " )                           )                                   \n",
            "                                                                 \n",
            " global_average_pooling2d_1  (None, 1280)              0         \n",
            "  (GlobalAveragePooling2D)                                       \n",
            "                                                                 \n",
            " dense_1 (Dense)             (None, 5)                 6405      \n",
            "                                                                 \n",
            "=================================================================\n",
            "Total params: 4055976 (15.47 MB)\n",
            "Trainable params: 4013953 (15.31 MB)\n",
            "Non-trainable params: 42023 (164.16 KB)\n",
            "_________________________________________________________________\n"
          ]
        }
      ]
    },
    {
      "cell_type": "code",
      "source": [
        "STEPS_PER_EPOCH = len(train_labels)*0.8 / BATCH_SIZE\n",
        "VALIDATION_STEPS = len(train_labels)*0.2 / BATCH_SIZE\n",
        "\n",
        "history = model.fit(\n",
        "    train_generator,\n",
        "    steps_per_epoch = STEPS_PER_EPOCH,\n",
        "    epochs = EPOCHS,\n",
        "    validation_data = validation_generator,\n",
        "    validation_steps = VALIDATION_STEPS\n",
        ")"
      ],
      "metadata": {
        "colab": {
          "base_uri": "https://localhost:8080/"
        },
        "id": "ORqB78u8lw_D",
        "outputId": "9aa81a03-62a3-426f-bbb0-95fb88c0092a"
      },
      "execution_count": 16,
      "outputs": [
        {
          "output_type": "stream",
          "name": "stdout",
          "text": [
            "Epoch 1/10\n",
            "2139/2139 [==============================] - 1063s 481ms/step - loss: 1.1471 - acc: 0.6135 - val_loss: 1.5148 - val_acc: 0.4111\n",
            "Epoch 2/10\n",
            "2139/2139 [==============================] - 301s 140ms/step - loss: 1.0231 - acc: 0.6311 - val_loss: 0.9622 - val_acc: 0.6480\n",
            "Epoch 3/10\n",
            "2139/2139 [==============================] - 292s 136ms/step - loss: 0.9865 - acc: 0.6411 - val_loss: 0.9938 - val_acc: 0.6546\n",
            "Epoch 4/10\n",
            "2139/2139 [==============================] - 277s 130ms/step - loss: 0.9607 - acc: 0.6487 - val_loss: 1.1948 - val_acc: 0.5644\n",
            "Epoch 5/10\n",
            "2139/2139 [==============================] - 277s 129ms/step - loss: 0.9314 - acc: 0.6547 - val_loss: 0.8558 - val_acc: 0.6752\n",
            "Epoch 6/10\n",
            "2139/2139 [==============================] - 285s 133ms/step - loss: 0.8774 - acc: 0.6722 - val_loss: 0.8450 - val_acc: 0.6775\n",
            "Epoch 7/10\n",
            "2139/2139 [==============================] - 274s 128ms/step - loss: 0.8438 - acc: 0.6855 - val_loss: 0.7647 - val_acc: 0.7102\n",
            "Epoch 8/10\n",
            "2139/2139 [==============================] - 291s 136ms/step - loss: 0.8152 - acc: 0.6986 - val_loss: 0.8053 - val_acc: 0.7044\n",
            "Epoch 9/10\n",
            "2139/2139 [==============================] - 277s 129ms/step - loss: 0.7875 - acc: 0.7038 - val_loss: 0.7176 - val_acc: 0.7420\n",
            "Epoch 10/10\n",
            "2139/2139 [==============================] - 276s 129ms/step - loss: 0.7608 - acc: 0.7167 - val_loss: 0.9741 - val_acc: 0.5959\n"
          ]
        }
      ]
    }
  ]
}