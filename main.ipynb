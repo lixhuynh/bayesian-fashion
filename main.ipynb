{
  "cells": [
    {
      "cell_type": "code",
      "execution_count": 5,
      "metadata": {
        "id": "Ex9nQQQpnAdV"
      },
      "outputs": [],
      "source": [
        "import os\n",
        "import glob\n",
        "import numpy as np\n",
        "import pandas as pd\n",
        "import matplotlib.pyplot as plt\n",
        "import IPython.display as display\n",
        "\n",
        "import tensorflow as tf"
      ]
    },
    {
      "cell_type": "code",
      "execution_count": 6,
      "metadata": {
        "id": "xL7oY2ar5otv"
      },
      "outputs": [],
      "source": [
        "TARGET_SIZE = 200\n",
        "BATCH_SIZE = 32"
      ]
    },
    {
      "cell_type": "code",
      "execution_count": null,
      "metadata": {
        "id": "GKvS3hwLscjh"
      },
      "outputs": [],
      "source": [
        "train_labels = pd.read_csv(\"/mnt/drive/MyDrive/Colab Notebooks/CassavaLeaves/train.csv\")\n",
        "train_labels.label = train_labels.label.astype('str')"
      ]
    },
    {
      "cell_type": "code",
      "execution_count": null,
      "metadata": {
        "id": "bVCIQlco1wxC"
      },
      "outputs": [],
      "source": [
        "generator_params = {\n",
        "    \"dataframe\": train_labels,\n",
        "    \"directory\": \"/mnt/drive/MyDrive/Colab Notebooks/CassavaLeaves/train_images\",\n",
        "    \"x_col\": \"image_id\",\n",
        "    \"y_col\": \"label\",\n",
        "    \"target_size\": (TARGET_SIZE, TARGET_SIZE),\n",
        "    \"batch_size\": BATCH_SIZE,\n",
        "    \"class_mode\": \"sparse\"\n",
        "}\n",
        "\n",
        "train_generator = tf.keras.preprocessing.image.ImageDataGenerator(\n",
        "    validation_split = 0.2,\n",
        "    rotation_range = 45,\n",
        "    zoom_range = 0.2,\n",
        "    horizontal_flip = True,\n",
        "    vertical_flip = True,\n",
        "    fill_mode = 'nearest',\n",
        "    shear_range = 0.1,\n",
        "    height_shift_range = 0.1,\n",
        "    width_shift_range = 0.1\n",
        ").flow_from_dataframe(\n",
        "    subset = \"training\",\n",
        "    **generator_params\n",
        ")\n",
        "\n",
        "validation_generator = tf.keras.preprocessing.image.ImageDataGenerator(\n",
        "    validation_split = 0.2\n",
        ").flow_from_dataframe(\n",
        "    subset = \"validation\",\n",
        "    **generator_params\n",
        ")"
      ]
    },
    {
      "cell_type": "code",
      "execution_count": 11,
      "metadata": {
        "id": "Uy4h4_Eg2ate"
      },
      "outputs": [],
      "source": [
        "def createModel():\n",
        "  model = tf.keras.models.Sequential()\n",
        "  model.add(tf.keras.applications.EfficientNetB0(\n",
        "      include_top = False, weights = None,\n",
        "      input_shape = (TARGET_SIZE, TARGET_SIZE, 3)))\n",
        "  model.add(tf.keras.layers.GlobalAveragePooling2D())\n",
        "  model.add(tf.keras.layers.Dense(5, activation = \"softmax\"))\n",
        "  model.compile(optimizer = tf.keras.optimizers.Adam(learning_rate = 0.001),\n",
        "                loss = \"sparse_categorical_crossentropy\",\n",
        "                metrics = [\"acc\"])\n",
        "  return model"
      ]
    },
    {
      "cell_type": "code",
      "execution_count": 12,
      "metadata": {
        "colab": {
          "base_uri": "https://localhost:8080/"
        },
        "id": "HPYzP4CI2Avj",
        "outputId": "abc43c68-0b24-456b-911d-2cd8f5085f9d"
      },
      "outputs": [
        {
          "name": "stdout",
          "output_type": "stream",
          "text": [
            "Model: \"sequential_2\"\n",
            "_________________________________________________________________\n",
            " Layer (type)                Output Shape              Param #   \n",
            "=================================================================\n",
            " efficientnetb0 (Functional  (None, 7, 7, 1280)        4049571   \n",
            " )                                                               \n",
            "                                                                 \n",
            " global_average_pooling2d_1  (None, 1280)              0         \n",
            "  (GlobalAveragePooling2D)                                       \n",
            "                                                                 \n",
            " dense_1 (Dense)             (None, 5)                 6405      \n",
            "                                                                 \n",
            "=================================================================\n",
            "Total params: 4055976 (15.47 MB)\n",
            "Trainable params: 4013953 (15.31 MB)\n",
            "Non-trainable params: 42023 (164.16 KB)\n",
            "_________________________________________________________________\n"
          ]
        }
      ],
      "source": [
        "model = createModel()\n",
        "model.summary()"
      ]
    }
  ],
  "metadata": {
    "colab": {
      "provenance": []
    },
    "kernelspec": {
      "display_name": "Python 3",
      "name": "python3"
    },
    "language_info": {
      "name": "python"
    }
  },
  "nbformat": 4,
  "nbformat_minor": 0
}
